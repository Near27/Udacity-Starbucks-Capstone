{
 "cells": [
  {
   "cell_type": "markdown",
   "source": [
    "## Analysis\n",
    "\n",
    "In this notebook I analyse my findings. The portfolio, profile and transcript (initially transcript_offer_customer) dataframes contain aggregated and calculated data from the initial datasets. Each dataset poses it's own set of questions"
   ],
   "metadata": {
    "collapsed": false
   }
  },
  {
   "cell_type": "code",
   "execution_count": 263,
   "outputs": [],
   "source": [
    "from sqlalchemy import create_engine\n",
    "import pandas as pd\n",
    "import numpy as np\n",
    "import matplotlib.pyplot as plt\n",
    "%matplotlib inline\n",
    "# read processed data\n",
    "engine = create_engine('sqlite:///./Portfolio.db')\n",
    "portfolio = pd.read_sql_table('Portfolio', engine)\n",
    "\n",
    "engine = create_engine('sqlite:///./Profile.db')\n",
    "profile = pd.read_sql_table('Profile', engine)\n",
    "\n",
    "engine = create_engine('sqlite:///./OfferPerson.db')\n",
    "transcript = pd.read_sql_table('OfferPerson', engine)"
   ],
   "metadata": {
    "collapsed": false,
    "pycharm": {
     "name": "#%%\n"
    }
   }
  },
  {
   "cell_type": "markdown",
   "source": [
    "## Profile"
   ],
   "metadata": {
    "collapsed": false
   }
  },
  {
   "cell_type": "code",
   "execution_count": 264,
   "outputs": [
    {
     "data": {
      "text/plain": "      gender  age                       customer_id    income  time_loyalty  \\\n0          F    1  0610b486422d4921ae7d2bf64640c50b  112000.0           1.0   \n1          F    2  78afa995795e4d85b5d9ceeca43f5fef  100000.0           1.0   \n2          M    2  e2127556f4f64592b11af22de27a7932   70000.0           2.0   \n3          M    2  389bc3fa690240e798340f5a15918d5c   53000.0           2.0   \n4          M    1  2eeac8d8feae4a8cad5a6af0499a211d   51000.0           2.0   \n...      ...  ...                               ...       ...           ...   \n14601      F    1  6d5f3a774f3d4714ab0c092238f3a1d7   54000.0           2.0   \n14602      M    2  2cb4f97358b841b9a9773a7aa05a9d77   72000.0           2.0   \n14603      M    1  01d26f638c274aa0b965d24cefe3183f   73000.0           1.0   \n14604      F    2  9dc1421481194dcd9400aec7c9ae6366   50000.0           1.0   \n14605      F    2  e4052622e5ba45a8b96b59aba68cf068   82000.0           1.0   \n\n       total_spend  total_experiment_time  total_received  total_viewed  \\\n0               77                    528               2             0   \n1              159                    582               4             4   \n2               57                    522               4             3   \n3               36                    600               6             6   \n4               15                    570               3             2   \n...            ...                    ...             ...           ...   \n14601           20                    690               3             3   \n14602           25                    654               3             1   \n14603           39                    672               3             1   \n14604          189                    684               3             3   \n14605          143                    690               4             2   \n\n       total_completed  \n0                    0  \n1                    3  \n2                    2  \n3                    4  \n4                    1  \n...                ...  \n14601                0  \n14602                0  \n14603                1  \n14604                1  \n14605                1  \n\n[14606 rows x 10 columns]",
      "text/html": "<div>\n<style scoped>\n    .dataframe tbody tr th:only-of-type {\n        vertical-align: middle;\n    }\n\n    .dataframe tbody tr th {\n        vertical-align: top;\n    }\n\n    .dataframe thead th {\n        text-align: right;\n    }\n</style>\n<table border=\"1\" class=\"dataframe\">\n  <thead>\n    <tr style=\"text-align: right;\">\n      <th></th>\n      <th>gender</th>\n      <th>age</th>\n      <th>customer_id</th>\n      <th>income</th>\n      <th>time_loyalty</th>\n      <th>total_spend</th>\n      <th>total_experiment_time</th>\n      <th>total_received</th>\n      <th>total_viewed</th>\n      <th>total_completed</th>\n    </tr>\n  </thead>\n  <tbody>\n    <tr>\n      <th>0</th>\n      <td>F</td>\n      <td>1</td>\n      <td>0610b486422d4921ae7d2bf64640c50b</td>\n      <td>112000.0</td>\n      <td>1.0</td>\n      <td>77</td>\n      <td>528</td>\n      <td>2</td>\n      <td>0</td>\n      <td>0</td>\n    </tr>\n    <tr>\n      <th>1</th>\n      <td>F</td>\n      <td>2</td>\n      <td>78afa995795e4d85b5d9ceeca43f5fef</td>\n      <td>100000.0</td>\n      <td>1.0</td>\n      <td>159</td>\n      <td>582</td>\n      <td>4</td>\n      <td>4</td>\n      <td>3</td>\n    </tr>\n    <tr>\n      <th>2</th>\n      <td>M</td>\n      <td>2</td>\n      <td>e2127556f4f64592b11af22de27a7932</td>\n      <td>70000.0</td>\n      <td>2.0</td>\n      <td>57</td>\n      <td>522</td>\n      <td>4</td>\n      <td>3</td>\n      <td>2</td>\n    </tr>\n    <tr>\n      <th>3</th>\n      <td>M</td>\n      <td>2</td>\n      <td>389bc3fa690240e798340f5a15918d5c</td>\n      <td>53000.0</td>\n      <td>2.0</td>\n      <td>36</td>\n      <td>600</td>\n      <td>6</td>\n      <td>6</td>\n      <td>4</td>\n    </tr>\n    <tr>\n      <th>4</th>\n      <td>M</td>\n      <td>1</td>\n      <td>2eeac8d8feae4a8cad5a6af0499a211d</td>\n      <td>51000.0</td>\n      <td>2.0</td>\n      <td>15</td>\n      <td>570</td>\n      <td>3</td>\n      <td>2</td>\n      <td>1</td>\n    </tr>\n    <tr>\n      <th>...</th>\n      <td>...</td>\n      <td>...</td>\n      <td>...</td>\n      <td>...</td>\n      <td>...</td>\n      <td>...</td>\n      <td>...</td>\n      <td>...</td>\n      <td>...</td>\n      <td>...</td>\n    </tr>\n    <tr>\n      <th>14601</th>\n      <td>F</td>\n      <td>1</td>\n      <td>6d5f3a774f3d4714ab0c092238f3a1d7</td>\n      <td>54000.0</td>\n      <td>2.0</td>\n      <td>20</td>\n      <td>690</td>\n      <td>3</td>\n      <td>3</td>\n      <td>0</td>\n    </tr>\n    <tr>\n      <th>14602</th>\n      <td>M</td>\n      <td>2</td>\n      <td>2cb4f97358b841b9a9773a7aa05a9d77</td>\n      <td>72000.0</td>\n      <td>2.0</td>\n      <td>25</td>\n      <td>654</td>\n      <td>3</td>\n      <td>1</td>\n      <td>0</td>\n    </tr>\n    <tr>\n      <th>14603</th>\n      <td>M</td>\n      <td>1</td>\n      <td>01d26f638c274aa0b965d24cefe3183f</td>\n      <td>73000.0</td>\n      <td>1.0</td>\n      <td>39</td>\n      <td>672</td>\n      <td>3</td>\n      <td>1</td>\n      <td>1</td>\n    </tr>\n    <tr>\n      <th>14604</th>\n      <td>F</td>\n      <td>2</td>\n      <td>9dc1421481194dcd9400aec7c9ae6366</td>\n      <td>50000.0</td>\n      <td>1.0</td>\n      <td>189</td>\n      <td>684</td>\n      <td>3</td>\n      <td>3</td>\n      <td>1</td>\n    </tr>\n    <tr>\n      <th>14605</th>\n      <td>F</td>\n      <td>2</td>\n      <td>e4052622e5ba45a8b96b59aba68cf068</td>\n      <td>82000.0</td>\n      <td>1.0</td>\n      <td>143</td>\n      <td>690</td>\n      <td>4</td>\n      <td>2</td>\n      <td>1</td>\n    </tr>\n  </tbody>\n</table>\n<p>14606 rows × 10 columns</p>\n</div>"
     },
     "execution_count": 264,
     "metadata": {},
     "output_type": "execute_result"
    }
   ],
   "source": [
    "# quick look at the processed profile data\n",
    "profile"
   ],
   "metadata": {
    "collapsed": false,
    "pycharm": {
     "name": "#%%\n"
    }
   }
  },
  {
   "cell_type": "markdown",
   "source": [
    "### What is the distribution of gender in the Starbucks' user base?\n",
    "\n",
    "Predominantly, about 20% more as the second place, comes the male audience followed by other genders."
   ],
   "metadata": {
    "collapsed": false
   }
  },
  {
   "cell_type": "code",
   "execution_count": 265,
   "outputs": [
    {
     "data": {
      "text/plain": "<AxesSubplot:>"
     },
     "execution_count": 265,
     "metadata": {},
     "output_type": "execute_result"
    },
    {
     "data": {
      "text/plain": "<Figure size 432x288 with 1 Axes>",
      "image/png": "[encoded data removed]"
     },
     "metadata": {
      "needs_background": "light"
     },
     "output_type": "display_data"
    }
   ],
   "source": [
    "# frequency of each gender type in the dataset\n",
    "# Clearly we can see, though not by much that males are predominant in the dataset. The minority falls back to 'other' genders\n",
    "profile.gender.hist()"
   ],
   "metadata": {
    "collapsed": false,
    "pycharm": {
     "name": "#%%\n"
    }
   }
  },
  {
   "cell_type": "code",
   "execution_count": 266,
   "outputs": [
    {
     "data": {
      "text/plain": "<AxesSubplot:ylabel='Frequency'>"
     },
     "execution_count": 266,
     "metadata": {},
     "output_type": "execute_result"
    },
    {
     "data": {
      "text/plain": "<Figure size 432x288 with 1 Axes>",
      "image/png": "[encoded data removed]"
     },
     "metadata": {
      "needs_background": "light"
     },
     "output_type": "display_data"
    }
   ],
   "source": [
    "# The dataset income is pretty well distributed so we cannot draw any conclusions from it\n",
    "profile.income.plot.hist()"
   ],
   "metadata": {
    "collapsed": false,
    "pycharm": {
     "name": "#%%\n"
    }
   }
  },
  {
   "cell_type": "code",
   "execution_count": 267,
   "outputs": [
    {
     "data": {
      "text/plain": "<AxesSubplot:ylabel='Frequency'>"
     },
     "execution_count": 267,
     "metadata": {},
     "output_type": "execute_result"
    },
    {
     "data": {
      "text/plain": "<Figure size 432x288 with 1 Axes>",
      "image/png": "[encoded data removed]"
     },
     "metadata": {
      "needs_background": "light"
     },
     "output_type": "display_data"
    }
   ],
   "source": [
    "# 18-24 - young - 0\n",
    "# 25 - 59 - adult - 1\n",
    "# 60-90 - elder - 2\n",
    "# Here we can see that the majority of our customers is split almost in half between adults and elders, not many young customers\n",
    "profile.age.plot.hist()"
   ],
   "metadata": {
    "collapsed": false,
    "pycharm": {
     "name": "#%%\n"
    }
   }
  },
  {
   "cell_type": "code",
   "execution_count": 268,
   "outputs": [],
   "source": [
    "# convert total spend into groups\n",
    "def convert_total_spend(x):\n",
    "    if type(x) != str:\n",
    "        if x <= 10:\n",
    "            return '0-10'\n",
    "        if 10 <= x <= 25:\n",
    "            return '15-25'\n",
    "        if 25 <= x <= 50:\n",
    "            return '25-50'\n",
    "        if 50 <= x <= 100:\n",
    "            return '50-100'\n",
    "        if 100 <= x <= 150:\n",
    "            return '100-150'\n",
    "        if 150 <= x <= 200:\n",
    "            return '150-200'\n",
    "        if 200 <= x <= 300:\n",
    "            return '200-300'\n",
    "        if 300 <= x <= 400:\n",
    "            return '300-400'\n",
    "        if 400 <= x <= 500:\n",
    "            return '400-500'\n",
    "        if x >= 500:\n",
    "            return '>500'\n",
    "    return x\n",
    "\n",
    "profile.total_spend = profile.total_spend.apply(lambda x: convert_total_spend(x))"
   ],
   "metadata": {
    "collapsed": false,
    "pycharm": {
     "name": "#%%\n"
    }
   }
  },
  {
   "cell_type": "markdown",
   "source": [
    "### What is the predominant average spend value?\n",
    "\n",
    "For this, I grouped the spend into a couple of categories. The majority of users spend from 15 to 200 USD. The rest spend less than 10 USD or more than 200"
   ],
   "metadata": {
    "collapsed": false
   }
  },
  {
   "cell_type": "code",
   "execution_count": 269,
   "outputs": [
    {
     "data": {
      "text/plain": "<AxesSubplot:>"
     },
     "execution_count": 269,
     "metadata": {},
     "output_type": "execute_result"
    },
    {
     "data": {
      "text/plain": "<Figure size 432x288 with 1 Axes>",
      "image/png": "[encoded data removed]"
     },
     "metadata": {
      "needs_background": "light"
     },
     "output_type": "display_data"
    }
   ],
   "source": [
    "# The majority of users spend from 15 to 200 USD. The rest spend less than 10 USD or more than 200 USD.\n",
    "profile.total_spend.value_counts().plot.bar()"
   ],
   "metadata": {
    "collapsed": false,
    "pycharm": {
     "name": "#%%\n"
    }
   }
  },
  {
   "cell_type": "markdown",
   "source": [],
   "metadata": {
    "collapsed": false
   }
  },
  {
   "cell_type": "markdown",
   "source": [
    "### What is the median value for each gender's income?\n",
    "\n",
    "Median value for 'others' gender floats around 60.000 USD\n",
    "\n",
    "Median value for 'female' gender floats around 70.000 USD\n",
    "\n",
    "Median value for 'male' gender floats around 60.000 USD"
   ],
   "metadata": {
    "collapsed": false
   }
  },
  {
   "cell_type": "code",
   "execution_count": 270,
   "outputs": [
    {
     "data": {
      "text/plain": "([<matplotlib.axis.XTick at 0x7f9884e55d00>,\n  <matplotlib.axis.XTick at 0x7f9884e55850>,\n  <matplotlib.axis.XTick at 0x7f985337f160>],\n [Text(1, 0, 'O'), Text(2, 0, 'F'), Text(3, 0, 'M')])"
     },
     "execution_count": 270,
     "metadata": {},
     "output_type": "execute_result"
    },
    {
     "data": {
      "text/plain": "<Figure size 432x288 with 1 Axes>",
      "image/png": "[encoded data removed]"
     },
     "metadata": {
      "needs_background": "light"
     },
     "output_type": "display_data"
    }
   ],
   "source": [
    "# The median income is balanced between genders. Median value is between 60.000 USD and 70.000 USD\n",
    "income_O = profile[profile.gender == 'O'].income\n",
    "income_F = profile[profile.gender == 'F'].income\n",
    "income_M = profile[profile.gender == 'M'].income\n",
    "labels = ('O', 'F', 'M')\n",
    "plt.boxplot ([income_O, income_F, income_M])\n",
    "plt.xticks(np.arange(len(labels))+1,labels)"
   ],
   "metadata": {
    "collapsed": false,
    "pycharm": {
     "name": "#%%\n"
    }
   }
  },
  {
   "cell_type": "markdown",
   "source": [
    "## Portfolio"
   ],
   "metadata": {
    "collapsed": false
   }
  },
  {
   "cell_type": "markdown",
   "source": [
    "### What offer has the highest conversion rate?\n",
    "\n",
    "The 4 days duration discount offer with a difficulty of 10 and reward of 2."
   ],
   "metadata": {
    "collapsed": false
   }
  },
  {
   "cell_type": "code",
   "execution_count": 271,
   "outputs": [
    {
     "data": {
      "text/plain": "   reward  difficulty  duration     offer_type  conversion_rate\n6       2          10       240       discount         0.214390\n5       3           7       168       discount         0.187661\n3       5           5       120           bogo         0.165794\n9       0           0        72  informational         0.158756\n1      10          10       120           bogo         0.127417\n0      10          10       168           bogo         0.127210\n7       2          10       168       discount         0.106766\n8       0           0        96  informational         0.100423\n2       5           5       168           bogo         0.096928\n4       5          20       240       discount         0.071727",
      "text/html": "<div>\n<style scoped>\n    .dataframe tbody tr th:only-of-type {\n        vertical-align: middle;\n    }\n\n    .dataframe tbody tr th {\n        vertical-align: top;\n    }\n\n    .dataframe thead th {\n        text-align: right;\n    }\n</style>\n<table border=\"1\" class=\"dataframe\">\n  <thead>\n    <tr style=\"text-align: right;\">\n      <th></th>\n      <th>reward</th>\n      <th>difficulty</th>\n      <th>duration</th>\n      <th>offer_type</th>\n      <th>conversion_rate</th>\n    </tr>\n  </thead>\n  <tbody>\n    <tr>\n      <th>6</th>\n      <td>2</td>\n      <td>10</td>\n      <td>240</td>\n      <td>discount</td>\n      <td>0.214390</td>\n    </tr>\n    <tr>\n      <th>5</th>\n      <td>3</td>\n      <td>7</td>\n      <td>168</td>\n      <td>discount</td>\n      <td>0.187661</td>\n    </tr>\n    <tr>\n      <th>3</th>\n      <td>5</td>\n      <td>5</td>\n      <td>120</td>\n      <td>bogo</td>\n      <td>0.165794</td>\n    </tr>\n    <tr>\n      <th>9</th>\n      <td>0</td>\n      <td>0</td>\n      <td>72</td>\n      <td>informational</td>\n      <td>0.158756</td>\n    </tr>\n    <tr>\n      <th>1</th>\n      <td>10</td>\n      <td>10</td>\n      <td>120</td>\n      <td>bogo</td>\n      <td>0.127417</td>\n    </tr>\n    <tr>\n      <th>0</th>\n      <td>10</td>\n      <td>10</td>\n      <td>168</td>\n      <td>bogo</td>\n      <td>0.127210</td>\n    </tr>\n    <tr>\n      <th>7</th>\n      <td>2</td>\n      <td>10</td>\n      <td>168</td>\n      <td>discount</td>\n      <td>0.106766</td>\n    </tr>\n    <tr>\n      <th>8</th>\n      <td>0</td>\n      <td>0</td>\n      <td>96</td>\n      <td>informational</td>\n      <td>0.100423</td>\n    </tr>\n    <tr>\n      <th>2</th>\n      <td>5</td>\n      <td>5</td>\n      <td>168</td>\n      <td>bogo</td>\n      <td>0.096928</td>\n    </tr>\n    <tr>\n      <th>4</th>\n      <td>5</td>\n      <td>20</td>\n      <td>240</td>\n      <td>discount</td>\n      <td>0.071727</td>\n    </tr>\n  </tbody>\n</table>\n</div>"
     },
     "execution_count": 271,
     "metadata": {},
     "output_type": "execute_result"
    }
   ],
   "source": [
    "# Both discount offers take the lead in the conversion rate metric. On the third place we have a bogo offer\n",
    "portfolio.sort_values(by='conversion_rate', ascending=False)[['reward', 'difficulty', 'duration', 'offer_type', 'conversion_rate']]"
   ],
   "metadata": {
    "collapsed": false,
    "pycharm": {
     "name": "#%%\n"
    }
   }
  },
  {
   "cell_type": "markdown",
   "source": [
    "### What offer has the highest click-through rate?\n",
    "\n",
    "We got the same offer, the 4 days duration discount offer with a difficulty of 10 and reward of 2."
   ],
   "metadata": {
    "collapsed": false
   }
  },
  {
   "cell_type": "code",
   "execution_count": 272,
   "outputs": [
    {
     "data": {
      "text/plain": "   reward  difficulty  duration     offer_type  click_through\n6       2          10       240       discount       0.969791\n3       5           5       120           bogo       0.968598\n1      10          10       120           bogo       0.967593\n5       3           7       168       discount       0.966667\n9       0           0        72  informational       0.904341\n0      10          10       168           bogo       0.898670\n2       5           5       168           bogo       0.558522\n7       2          10       168       discount       0.556812\n8       0           0        96  informational       0.553614\n4       5          20       240       discount       0.358453",
      "text/html": "<div>\n<style scoped>\n    .dataframe tbody tr th:only-of-type {\n        vertical-align: middle;\n    }\n\n    .dataframe tbody tr th {\n        vertical-align: top;\n    }\n\n    .dataframe thead th {\n        text-align: right;\n    }\n</style>\n<table border=\"1\" class=\"dataframe\">\n  <thead>\n    <tr style=\"text-align: right;\">\n      <th></th>\n      <th>reward</th>\n      <th>difficulty</th>\n      <th>duration</th>\n      <th>offer_type</th>\n      <th>click_through</th>\n    </tr>\n  </thead>\n  <tbody>\n    <tr>\n      <th>6</th>\n      <td>2</td>\n      <td>10</td>\n      <td>240</td>\n      <td>discount</td>\n      <td>0.969791</td>\n    </tr>\n    <tr>\n      <th>3</th>\n      <td>5</td>\n      <td>5</td>\n      <td>120</td>\n      <td>bogo</td>\n      <td>0.968598</td>\n    </tr>\n    <tr>\n      <th>1</th>\n      <td>10</td>\n      <td>10</td>\n      <td>120</td>\n      <td>bogo</td>\n      <td>0.967593</td>\n    </tr>\n    <tr>\n      <th>5</th>\n      <td>3</td>\n      <td>7</td>\n      <td>168</td>\n      <td>discount</td>\n      <td>0.966667</td>\n    </tr>\n    <tr>\n      <th>9</th>\n      <td>0</td>\n      <td>0</td>\n      <td>72</td>\n      <td>informational</td>\n      <td>0.904341</td>\n    </tr>\n    <tr>\n      <th>0</th>\n      <td>10</td>\n      <td>10</td>\n      <td>168</td>\n      <td>bogo</td>\n      <td>0.898670</td>\n    </tr>\n    <tr>\n      <th>2</th>\n      <td>5</td>\n      <td>5</td>\n      <td>168</td>\n      <td>bogo</td>\n      <td>0.558522</td>\n    </tr>\n    <tr>\n      <th>7</th>\n      <td>2</td>\n      <td>10</td>\n      <td>168</td>\n      <td>discount</td>\n      <td>0.556812</td>\n    </tr>\n    <tr>\n      <th>8</th>\n      <td>0</td>\n      <td>0</td>\n      <td>96</td>\n      <td>informational</td>\n      <td>0.553614</td>\n    </tr>\n    <tr>\n      <th>4</th>\n      <td>5</td>\n      <td>20</td>\n      <td>240</td>\n      <td>discount</td>\n      <td>0.358453</td>\n    </tr>\n  </tbody>\n</table>\n</div>"
     },
     "execution_count": 272,
     "metadata": {},
     "output_type": "execute_result"
    }
   ],
   "source": [
    "# as the top 4 offers coming close at 96% click-through rate we have two bogo and discount offers and one informational\n",
    "# last place is taken by a discount offer, specifically  the one with high difficulty\n",
    "portfolio.sort_values(by='click_through', ascending=False)[['reward', 'difficulty', 'duration', 'offer_type', 'click_through']]"
   ],
   "metadata": {
    "collapsed": false,
    "pycharm": {
     "name": "#%%\n"
    }
   }
  },
  {
   "cell_type": "markdown",
   "source": [
    "### What are the most profitable offers (highest ROI)?"
   ],
   "metadata": {
    "collapsed": false
   }
  },
  {
   "cell_type": "code",
   "execution_count": 273,
   "outputs": [
    {
     "name": "stdout",
     "output_type": "stream",
     "text": [
      "The offers with the best roi are:\n"
     ]
    },
    {
     "data": {
      "text/plain": "   reward  difficulty  duration     offer_type  total_roi\n6       2          10       240       discount   6.007619\n7       2          10       168       discount   3.752929\n5       3           7       168       discount   3.006910\n3       5           5       120           bogo   1.760258\n4       5          20       240       discount   0.970048\n1      10          10       120           bogo   0.732522\n2       5           5       168           bogo   0.514182\n0      10          10       168           bogo   0.459522\n8       0           0        96  informational   0.000000\n9       0           0        72  informational   0.000000",
      "text/html": "<div>\n<style scoped>\n    .dataframe tbody tr th:only-of-type {\n        vertical-align: middle;\n    }\n\n    .dataframe tbody tr th {\n        vertical-align: top;\n    }\n\n    .dataframe thead th {\n        text-align: right;\n    }\n</style>\n<table border=\"1\" class=\"dataframe\">\n  <thead>\n    <tr style=\"text-align: right;\">\n      <th></th>\n      <th>reward</th>\n      <th>difficulty</th>\n      <th>duration</th>\n      <th>offer_type</th>\n      <th>total_roi</th>\n    </tr>\n  </thead>\n  <tbody>\n    <tr>\n      <th>6</th>\n      <td>2</td>\n      <td>10</td>\n      <td>240</td>\n      <td>discount</td>\n      <td>6.007619</td>\n    </tr>\n    <tr>\n      <th>7</th>\n      <td>2</td>\n      <td>10</td>\n      <td>168</td>\n      <td>discount</td>\n      <td>3.752929</td>\n    </tr>\n    <tr>\n      <th>5</th>\n      <td>3</td>\n      <td>7</td>\n      <td>168</td>\n      <td>discount</td>\n      <td>3.006910</td>\n    </tr>\n    <tr>\n      <th>3</th>\n      <td>5</td>\n      <td>5</td>\n      <td>120</td>\n      <td>bogo</td>\n      <td>1.760258</td>\n    </tr>\n    <tr>\n      <th>4</th>\n      <td>5</td>\n      <td>20</td>\n      <td>240</td>\n      <td>discount</td>\n      <td>0.970048</td>\n    </tr>\n    <tr>\n      <th>1</th>\n      <td>10</td>\n      <td>10</td>\n      <td>120</td>\n      <td>bogo</td>\n      <td>0.732522</td>\n    </tr>\n    <tr>\n      <th>2</th>\n      <td>5</td>\n      <td>5</td>\n      <td>168</td>\n      <td>bogo</td>\n      <td>0.514182</td>\n    </tr>\n    <tr>\n      <th>0</th>\n      <td>10</td>\n      <td>10</td>\n      <td>168</td>\n      <td>bogo</td>\n      <td>0.459522</td>\n    </tr>\n    <tr>\n      <th>8</th>\n      <td>0</td>\n      <td>0</td>\n      <td>96</td>\n      <td>informational</td>\n      <td>0.000000</td>\n    </tr>\n    <tr>\n      <th>9</th>\n      <td>0</td>\n      <td>0</td>\n      <td>72</td>\n      <td>informational</td>\n      <td>0.000000</td>\n    </tr>\n  </tbody>\n</table>\n</div>"
     },
     "execution_count": 273,
     "metadata": {},
     "output_type": "execute_result"
    }
   ],
   "source": [
    "# what are the most profitable offers? sort by total_roi\n",
    "print(\"The offers with the best roi are:\")\n",
    "best_roi_offer = portfolio.sort_values(by=\"total_roi\", ascending=False)\n",
    "best_roi_offer[['reward', 'difficulty', 'duration', 'offer_type', 'total_roi']]"
   ],
   "metadata": {
    "collapsed": false,
    "pycharm": {
     "name": "#%%\n"
    }
   }
  },
  {
   "cell_type": "markdown",
   "source": [
    "## Transcript"
   ],
   "metadata": {
    "collapsed": false
   }
  },
  {
   "cell_type": "code",
   "execution_count": 274,
   "outputs": [
    {
     "data": {
      "text/plain": "                            customer_id                          offer_id  \\\n0      0009655768c64bdeb2e877511632db8f  2906b810c7d4411798c6938adc9daaa5   \n1      0009655768c64bdeb2e877511632db8f  3f207df678b143eea3cee63160fa8bed   \n2      0009655768c64bdeb2e877511632db8f  5a8bc65990b245e5a138643cd4eb9837   \n3      0009655768c64bdeb2e877511632db8f  f19421c1d4aa40978ebb69ca19b0e20d   \n4      0009655768c64bdeb2e877511632db8f  fafdcd668e3743c1bb461111dcafc2a4   \n...                                 ...                               ...   \n54398  fffad4f4828548d1b5583907f2e9906b  f19421c1d4aa40978ebb69ca19b0e20d   \n54399  ffff82501cea40309d5fdd7edcca4a07  0b1e1539f2cc45b7b9fa7c272da2e1d7   \n54400  ffff82501cea40309d5fdd7edcca4a07  2906b810c7d4411798c6938adc9daaa5   \n54401  ffff82501cea40309d5fdd7edcca4a07  9b98b8c7a33c4b65b9aebfe6a799e6d9   \n54402  ffff82501cea40309d5fdd7edcca4a07  fafdcd668e3743c1bb461111dcafc2a4   \n\n       offer_completed_reward  revenue_generated  offer_successful  viewed  \n0                         2.0                  0             False   False  \n1                         0.0                  8              True    True  \n2                         0.0                 22              True    True  \n3                         5.0                  0             False   False  \n4                         2.0                  0             False   False  \n...                       ...                ...               ...     ...  \n54398                    10.0                  6              True    True  \n54399                     5.0                 22              True    True  \n54400                     6.0                 15              True    True  \n54401                     5.0                  0             False   False  \n54402                     2.0                 16              True    True  \n\n[54403 rows x 6 columns]",
      "text/html": "<div>\n<style scoped>\n    .dataframe tbody tr th:only-of-type {\n        vertical-align: middle;\n    }\n\n    .dataframe tbody tr th {\n        vertical-align: top;\n    }\n\n    .dataframe thead th {\n        text-align: right;\n    }\n</style>\n<table border=\"1\" class=\"dataframe\">\n  <thead>\n    <tr style=\"text-align: right;\">\n      <th></th>\n      <th>customer_id</th>\n      <th>offer_id</th>\n      <th>offer_completed_reward</th>\n      <th>revenue_generated</th>\n      <th>offer_successful</th>\n      <th>viewed</th>\n    </tr>\n  </thead>\n  <tbody>\n    <tr>\n      <th>0</th>\n      <td>0009655768c64bdeb2e877511632db8f</td>\n      <td>2906b810c7d4411798c6938adc9daaa5</td>\n      <td>2.0</td>\n      <td>0</td>\n      <td>False</td>\n      <td>False</td>\n    </tr>\n    <tr>\n      <th>1</th>\n      <td>0009655768c64bdeb2e877511632db8f</td>\n      <td>3f207df678b143eea3cee63160fa8bed</td>\n      <td>0.0</td>\n      <td>8</td>\n      <td>True</td>\n      <td>True</td>\n    </tr>\n    <tr>\n      <th>2</th>\n      <td>0009655768c64bdeb2e877511632db8f</td>\n      <td>5a8bc65990b245e5a138643cd4eb9837</td>\n      <td>0.0</td>\n      <td>22</td>\n      <td>True</td>\n      <td>True</td>\n    </tr>\n    <tr>\n      <th>3</th>\n      <td>0009655768c64bdeb2e877511632db8f</td>\n      <td>f19421c1d4aa40978ebb69ca19b0e20d</td>\n      <td>5.0</td>\n      <td>0</td>\n      <td>False</td>\n      <td>False</td>\n    </tr>\n    <tr>\n      <th>4</th>\n      <td>0009655768c64bdeb2e877511632db8f</td>\n      <td>fafdcd668e3743c1bb461111dcafc2a4</td>\n      <td>2.0</td>\n      <td>0</td>\n      <td>False</td>\n      <td>False</td>\n    </tr>\n    <tr>\n      <th>...</th>\n      <td>...</td>\n      <td>...</td>\n      <td>...</td>\n      <td>...</td>\n      <td>...</td>\n      <td>...</td>\n    </tr>\n    <tr>\n      <th>54398</th>\n      <td>fffad4f4828548d1b5583907f2e9906b</td>\n      <td>f19421c1d4aa40978ebb69ca19b0e20d</td>\n      <td>10.0</td>\n      <td>6</td>\n      <td>True</td>\n      <td>True</td>\n    </tr>\n    <tr>\n      <th>54399</th>\n      <td>ffff82501cea40309d5fdd7edcca4a07</td>\n      <td>0b1e1539f2cc45b7b9fa7c272da2e1d7</td>\n      <td>5.0</td>\n      <td>22</td>\n      <td>True</td>\n      <td>True</td>\n    </tr>\n    <tr>\n      <th>54400</th>\n      <td>ffff82501cea40309d5fdd7edcca4a07</td>\n      <td>2906b810c7d4411798c6938adc9daaa5</td>\n      <td>6.0</td>\n      <td>15</td>\n      <td>True</td>\n      <td>True</td>\n    </tr>\n    <tr>\n      <th>54401</th>\n      <td>ffff82501cea40309d5fdd7edcca4a07</td>\n      <td>9b98b8c7a33c4b65b9aebfe6a799e6d9</td>\n      <td>5.0</td>\n      <td>0</td>\n      <td>False</td>\n      <td>False</td>\n    </tr>\n    <tr>\n      <th>54402</th>\n      <td>ffff82501cea40309d5fdd7edcca4a07</td>\n      <td>fafdcd668e3743c1bb461111dcafc2a4</td>\n      <td>2.0</td>\n      <td>16</td>\n      <td>True</td>\n      <td>True</td>\n    </tr>\n  </tbody>\n</table>\n<p>54403 rows × 6 columns</p>\n</div>"
     },
     "execution_count": 274,
     "metadata": {},
     "output_type": "execute_result"
    }
   ],
   "source": [
    "# first look at the transcript\n",
    "transcript"
   ],
   "metadata": {
    "collapsed": false,
    "pycharm": {
     "name": "#%%\n"
    }
   }
  },
  {
   "cell_type": "markdown",
   "source": [
    "### What gender gives the best ROI?"
   ],
   "metadata": {
    "collapsed": false
   }
  },
  {
   "cell_type": "code",
   "execution_count": 275,
   "outputs": [
    {
     "data": {
      "text/plain": "                                  offer_completed_reward  revenue_generated  \\\ncustomer_id                                                                   \n0009655768c64bdeb2e877511632db8f                     9.0               30.0   \n0011e0d4e6b944f998e987f904e8c1e5                    13.0               33.0   \n0020c2b971eb4e9188eac86d93036a77                    14.0               81.0   \n0020ccbbb6d84e358d3414a3ff76cffd                    13.0               93.0   \n003d66b6608740288d6cc97a6903f4f0                     9.0               16.0   \n...                                                  ...                ...   \nffff82501cea40309d5fdd7edcca4a07                    18.0               53.0   \nc6e579c6821c41d1a7a6a9cf936e91bb                     NaN                NaN   \neb540099db834cf59001f83a4561aef3                     NaN                NaN   \n3a4874d8f0ef42b9a1b72294902afea9                     NaN                NaN   \nae8111e7e8cd4b60a8d35c42c1110555                     NaN                NaN   \n\n                                  offer_successful  viewed gender  age  \\\ncustomer_id                                                              \n0009655768c64bdeb2e877511632db8f               2.0     2.0      M    1   \n0011e0d4e6b944f998e987f904e8c1e5               3.0     3.0      O    1   \n0020c2b971eb4e9188eac86d93036a77               3.0     3.0      F    2   \n0020ccbbb6d84e358d3414a3ff76cffd               4.0     4.0      F    0   \n003d66b6608740288d6cc97a6903f4f0               3.0     3.0      F    1   \n...                                            ...     ...    ...  ...   \nffff82501cea40309d5fdd7edcca4a07               3.0     3.0      F    1   \nc6e579c6821c41d1a7a6a9cf936e91bb               NaN     NaN      F    2   \neb540099db834cf59001f83a4561aef3               NaN     NaN      F    2   \n3a4874d8f0ef42b9a1b72294902afea9               NaN     NaN      F    1   \nae8111e7e8cd4b60a8d35c42c1110555               NaN     NaN      F    1   \n\n                                   income  time_loyalty total_spend  \\\ncustomer_id                                                           \n0009655768c64bdeb2e877511632db8f  72000.0           1.0     100-150   \n0011e0d4e6b944f998e987f904e8c1e5  57000.0           2.0      50-100   \n0020c2b971eb4e9188eac86d93036a77  90000.0           1.0     150-200   \n0020ccbbb6d84e358d3414a3ff76cffd  60000.0           1.0     150-200   \n003d66b6608740288d6cc97a6903f4f0  73000.0           1.0       25-50   \n...                                   ...           ...         ...   \nffff82501cea40309d5fdd7edcca4a07  62000.0           1.0     200-300   \nc6e579c6821c41d1a7a6a9cf936e91bb  35000.0           2.0        0-10   \neb540099db834cf59001f83a4561aef3  34000.0           2.0       25-50   \n3a4874d8f0ef42b9a1b72294902afea9  88000.0           1.0      50-100   \nae8111e7e8cd4b60a8d35c42c1110555  72000.0           1.0      50-100   \n\n                                  total_experiment_time  total_received  \\\ncustomer_id                                                               \n0009655768c64bdeb2e877511632db8f                    696               5   \n0011e0d4e6b944f998e987f904e8c1e5                    654               5   \n0020c2b971eb4e9188eac86d93036a77                    708               5   \n0020ccbbb6d84e358d3414a3ff76cffd                    672               4   \n003d66b6608740288d6cc97a6903f4f0                    696               5   \n...                                                 ...             ...   \nffff82501cea40309d5fdd7edcca4a07                    648               6   \nc6e579c6821c41d1a7a6a9cf936e91bb                    570               0   \neb540099db834cf59001f83a4561aef3                    594               0   \n3a4874d8f0ef42b9a1b72294902afea9                    576               0   \nae8111e7e8cd4b60a8d35c42c1110555                    654               0   \n\n                                  total_viewed  total_completed  \ncustomer_id                                                      \n0009655768c64bdeb2e877511632db8f             4                2  \n0011e0d4e6b944f998e987f904e8c1e5             5                3  \n0020c2b971eb4e9188eac86d93036a77             3                3  \n0020ccbbb6d84e358d3414a3ff76cffd             4                4  \n003d66b6608740288d6cc97a6903f4f0             4                3  \n...                                        ...              ...  \nffff82501cea40309d5fdd7edcca4a07             6                3  \nc6e579c6821c41d1a7a6a9cf936e91bb             0                0  \neb540099db834cf59001f83a4561aef3             0                0  \n3a4874d8f0ef42b9a1b72294902afea9             0                0  \nae8111e7e8cd4b60a8d35c42c1110555             0                0  \n\n[14606 rows x 13 columns]",
      "text/html": "<div>\n<style scoped>\n    .dataframe tbody tr th:only-of-type {\n        vertical-align: middle;\n    }\n\n    .dataframe tbody tr th {\n        vertical-align: top;\n    }\n\n    .dataframe thead th {\n        text-align: right;\n    }\n</style>\n<table border=\"1\" class=\"dataframe\">\n  <thead>\n    <tr style=\"text-align: right;\">\n      <th></th>\n      <th>offer_completed_reward</th>\n      <th>revenue_generated</th>\n      <th>offer_successful</th>\n      <th>viewed</th>\n      <th>gender</th>\n      <th>age</th>\n      <th>income</th>\n      <th>time_loyalty</th>\n      <th>total_spend</th>\n      <th>total_experiment_time</th>\n      <th>total_received</th>\n      <th>total_viewed</th>\n      <th>total_completed</th>\n    </tr>\n    <tr>\n      <th>customer_id</th>\n      <th></th>\n      <th></th>\n      <th></th>\n      <th></th>\n      <th></th>\n      <th></th>\n      <th></th>\n      <th></th>\n      <th></th>\n      <th></th>\n      <th></th>\n      <th></th>\n      <th></th>\n    </tr>\n  </thead>\n  <tbody>\n    <tr>\n      <th>0009655768c64bdeb2e877511632db8f</th>\n      <td>9.0</td>\n      <td>30.0</td>\n      <td>2.0</td>\n      <td>2.0</td>\n      <td>M</td>\n      <td>1</td>\n      <td>72000.0</td>\n      <td>1.0</td>\n      <td>100-150</td>\n      <td>696</td>\n      <td>5</td>\n      <td>4</td>\n      <td>2</td>\n    </tr>\n    <tr>\n      <th>0011e0d4e6b944f998e987f904e8c1e5</th>\n      <td>13.0</td>\n      <td>33.0</td>\n      <td>3.0</td>\n      <td>3.0</td>\n      <td>O</td>\n      <td>1</td>\n      <td>57000.0</td>\n      <td>2.0</td>\n      <td>50-100</td>\n      <td>654</td>\n      <td>5</td>\n      <td>5</td>\n      <td>3</td>\n    </tr>\n    <tr>\n      <th>0020c2b971eb4e9188eac86d93036a77</th>\n      <td>14.0</td>\n      <td>81.0</td>\n      <td>3.0</td>\n      <td>3.0</td>\n      <td>F</td>\n      <td>2</td>\n      <td>90000.0</td>\n      <td>1.0</td>\n      <td>150-200</td>\n      <td>708</td>\n      <td>5</td>\n      <td>3</td>\n      <td>3</td>\n    </tr>\n    <tr>\n      <th>0020ccbbb6d84e358d3414a3ff76cffd</th>\n      <td>13.0</td>\n      <td>93.0</td>\n      <td>4.0</td>\n      <td>4.0</td>\n      <td>F</td>\n      <td>0</td>\n      <td>60000.0</td>\n      <td>1.0</td>\n      <td>150-200</td>\n      <td>672</td>\n      <td>4</td>\n      <td>4</td>\n      <td>4</td>\n    </tr>\n    <tr>\n      <th>003d66b6608740288d6cc97a6903f4f0</th>\n      <td>9.0</td>\n      <td>16.0</td>\n      <td>3.0</td>\n      <td>3.0</td>\n      <td>F</td>\n      <td>1</td>\n      <td>73000.0</td>\n      <td>1.0</td>\n      <td>25-50</td>\n      <td>696</td>\n      <td>5</td>\n      <td>4</td>\n      <td>3</td>\n    </tr>\n    <tr>\n      <th>...</th>\n      <td>...</td>\n      <td>...</td>\n      <td>...</td>\n      <td>...</td>\n      <td>...</td>\n      <td>...</td>\n      <td>...</td>\n      <td>...</td>\n      <td>...</td>\n      <td>...</td>\n      <td>...</td>\n      <td>...</td>\n      <td>...</td>\n    </tr>\n    <tr>\n      <th>ffff82501cea40309d5fdd7edcca4a07</th>\n      <td>18.0</td>\n      <td>53.0</td>\n      <td>3.0</td>\n      <td>3.0</td>\n      <td>F</td>\n      <td>1</td>\n      <td>62000.0</td>\n      <td>1.0</td>\n      <td>200-300</td>\n      <td>648</td>\n      <td>6</td>\n      <td>6</td>\n      <td>3</td>\n    </tr>\n    <tr>\n      <th>c6e579c6821c41d1a7a6a9cf936e91bb</th>\n      <td>NaN</td>\n      <td>NaN</td>\n      <td>NaN</td>\n      <td>NaN</td>\n      <td>F</td>\n      <td>2</td>\n      <td>35000.0</td>\n      <td>2.0</td>\n      <td>0-10</td>\n      <td>570</td>\n      <td>0</td>\n      <td>0</td>\n      <td>0</td>\n    </tr>\n    <tr>\n      <th>eb540099db834cf59001f83a4561aef3</th>\n      <td>NaN</td>\n      <td>NaN</td>\n      <td>NaN</td>\n      <td>NaN</td>\n      <td>F</td>\n      <td>2</td>\n      <td>34000.0</td>\n      <td>2.0</td>\n      <td>25-50</td>\n      <td>594</td>\n      <td>0</td>\n      <td>0</td>\n      <td>0</td>\n    </tr>\n    <tr>\n      <th>3a4874d8f0ef42b9a1b72294902afea9</th>\n      <td>NaN</td>\n      <td>NaN</td>\n      <td>NaN</td>\n      <td>NaN</td>\n      <td>F</td>\n      <td>1</td>\n      <td>88000.0</td>\n      <td>1.0</td>\n      <td>50-100</td>\n      <td>576</td>\n      <td>0</td>\n      <td>0</td>\n      <td>0</td>\n    </tr>\n    <tr>\n      <th>ae8111e7e8cd4b60a8d35c42c1110555</th>\n      <td>NaN</td>\n      <td>NaN</td>\n      <td>NaN</td>\n      <td>NaN</td>\n      <td>F</td>\n      <td>1</td>\n      <td>72000.0</td>\n      <td>1.0</td>\n      <td>50-100</td>\n      <td>654</td>\n      <td>0</td>\n      <td>0</td>\n      <td>0</td>\n    </tr>\n  </tbody>\n</table>\n<p>14606 rows × 13 columns</p>\n</div>"
     },
     "execution_count": 275,
     "metadata": {},
     "output_type": "execute_result"
    }
   ],
   "source": [
    "# group dataset by customer id, sum it's values and merge each customer's demographic traits\n",
    "profile = profile.set_index('customer_id')\n",
    "transcript_person = transcript.groupby('customer_id').sum()\n",
    "transcript_person = pd.concat([transcript_person, profile], axis=1) # .drop(['converted_users', 'fail_users', 'success_users'], axis=1)\n",
    "transcript_person"
   ],
   "metadata": {
    "collapsed": false,
    "pycharm": {
     "name": "#%%\n"
    }
   }
  },
  {
   "cell_type": "code",
   "execution_count": 276,
   "outputs": [
    {
     "data": {
      "text/plain": "             roi\ngender          \nO       2.570968\nF       2.263656\nM       2.214758",
      "text/html": "<div>\n<style scoped>\n    .dataframe tbody tr th:only-of-type {\n        vertical-align: middle;\n    }\n\n    .dataframe tbody tr th {\n        vertical-align: top;\n    }\n\n    .dataframe thead th {\n        text-align: right;\n    }\n</style>\n<table border=\"1\" class=\"dataframe\">\n  <thead>\n    <tr style=\"text-align: right;\">\n      <th></th>\n      <th>roi</th>\n    </tr>\n    <tr>\n      <th>gender</th>\n      <th></th>\n    </tr>\n  </thead>\n  <tbody>\n    <tr>\n      <th>O</th>\n      <td>2.570968</td>\n    </tr>\n    <tr>\n      <th>F</th>\n      <td>2.263656</td>\n    </tr>\n    <tr>\n      <th>M</th>\n      <td>2.214758</td>\n    </tr>\n  </tbody>\n</table>\n</div>"
     },
     "execution_count": 276,
     "metadata": {},
     "output_type": "execute_result"
    }
   ],
   "source": [
    "roi_M = (np.sum(transcript_person[transcript_person.gender == 'M'].revenue_generated) - np.sum(transcript_person[transcript_person.gender == 'M'].offer_completed_reward)) / np.sum(transcript_person[transcript_person.gender == 'M'].offer_completed_reward)\n",
    "roi_M\n",
    "\n",
    "roi_O = (np.sum(transcript_person[transcript_person.gender == 'O'].revenue_generated) - np.sum(transcript_person[transcript_person.gender == 'O'].offer_completed_reward)) / np.sum(transcript_person[transcript_person.gender == 'O'].offer_completed_reward)\n",
    "roi_O\n",
    "\n",
    "roi_F = (np.sum(transcript_person[transcript_person.gender == 'F'].revenue_generated) - np.sum(transcript_person[transcript_person.gender == 'F'].offer_completed_reward)) / np.sum(transcript_person[transcript_person.gender == 'F'].offer_completed_reward)\n",
    "\n",
    "roi_list = [['O', roi_O], ['F', roi_F], ['M', roi_M]]\n",
    "\n",
    "df_roi = pd.DataFrame(roi_list, columns = ['gender', 'roi'])\n",
    "\n",
    "df_roi.sort_values(by='roi', ascending=False).set_index('gender')"
   ],
   "metadata": {
    "collapsed": false,
    "pycharm": {
     "name": "#%%\n"
    }
   }
  },
  {
   "cell_type": "code",
   "execution_count": 276,
   "outputs": [],
   "source": [],
   "metadata": {
    "collapsed": false,
    "pycharm": {
     "name": "#%%\n"
    }
   }
  }
 ],
 "metadata": {
  "kernelspec": {
   "display_name": "Python 3",
   "language": "python",
   "name": "python3"
  },
  "language_info": {
   "codemirror_mode": {
    "name": "ipython",
    "version": 3
   },
   "file_extension": ".py",
   "mimetype": "text/x-python",
   "name": "python",
   "nbconvert_exporter": "python",
   "pygments_lexer": "ipython3",
   "version": "3.6.3"
  }
 },
 "nbformat": 4,
 "nbformat_minor": 2
}